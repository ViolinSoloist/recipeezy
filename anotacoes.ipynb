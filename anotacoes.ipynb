{
 "cells": [
  {
   "cell_type": "markdown",
   "id": "62ee4ee5",
   "metadata": {},
   "source": [
    "# Anotações sobre HTML"
   ]
  },
  {
   "cell_type": "markdown",
   "id": "4346bac5",
   "metadata": {},
   "source": [
    "#### script\n",
    "Tem como usar mais de uma tag script, porém a ordem importa (a mais importante e que as outras dependem vem antes).  "
   ]
  },
  {
   "cell_type": "markdown",
   "id": "47da8409",
   "metadata": {},
   "source": [
    "### Tag forms"
   ]
  },
  {
   "cell_type": "code",
   "execution_count": null,
   "id": "b4896a70",
   "metadata": {
    "vscode": {
     "languageId": "html"
    }
   },
   "outputs": [],
   "source": [
    "<form id=\"search-form\"> \n",
    "    <input type=\"text\" id=\"search-input\" placeholder=\"What is in your mind?\" autocomplete=\"off\">\n",
    "    <button type=\"submit\" class=\"btn\" id=\"confirm-search-btn\">Buscar</button>\n",
    "</form>\n",
    "\n",
    "// input => onde vamos receber o que for escrito, type define qual vai ser o tipo de input\n",
    "// type submit mostra que vai ser a ação que vai enviar o input escrito"
   ]
  },
  {
   "cell_type": "markdown",
   "id": "bcebe31a",
   "metadata": {},
   "source": [
    "# Anotações sobre JavaScript"
   ]
  },
  {
   "cell_type": "markdown",
   "id": "f101d95e",
   "metadata": {},
   "source": [
    "### Eventos"
   ]
  },
  {
   "cell_type": "code",
   "execution_count": null,
   "id": "785e6618",
   "metadata": {
    "vscode": {
     "languageId": "javascript"
    }
   },
   "outputs": [],
   "source": [
    "document.addEventListener('DOMContentLoaded', () => {\n",
    "    // faz com que o programa só rode depois de carregar a página HTML, usando EventListener\n",
    "});\n",
    "\n",
    "\n",
    "// CLICK, evento que tem varias propriedades, algumas delas são TARGET, que basicamente onde é clicado\n",
    "modalOverlay.addEventListener('click', (event) => {\n",
    "    if (event.target === modalOverlay) closeModal();\n",
    "});\n",
    "\n",
    "// KEYPRESS, key é uma das opções que que é basicamente a tecla apertada \n",
    "document.addEventListener('keydown', (event) => {\n",
    "    if (!modalOverlay.classList.contains('hidden') && event.key === 'Escape') closeModal();\n",
    "});\n",
    "\n",
    "// SUBMIT \n",
    "// ============== .preventDefault() =============\n",
    "// impede a página de recarregar\n",
    "// possibilita validação de dados, assincronismo (API), e feedback amigável ao usuário\n",
    "searchForm.addEventListener('submit', (event) => {\n",
    "    event.preventDefault(); \n",
    "\n",
    "    // sendo searchInput a variável correspondente a tag <input> do HTML, a variável query recebe o valor desse input, só que sem os espaços em branco\n",
    "    const query = searchInput.value.trim();\n",
    "    \n",
    "    if (query) {\n",
    "\n",
    "        // location propriedade de windows que contém informação sobre a URL atual\n",
    "        // location.href contém o endereço URL em formato string, possível de atribuir\n",
    "        window.location.href = `search.html?query=${encodeURIComponent(query)}`;\n",
    "    } else {\n",
    "        searchInput.focus();\n",
    "    }\n",
    "});\n",
    "\n",
    "\n",
    "// ============= BOAS PRÁTICAS ===============\n",
    "// sempre chegar se algum elemento existe antes de tentar fazer algo com ele, por exemplo, adicionar um escutador\n",
    "const discoverBtn = document.getElementById(\"landing-page-btn\");\n",
    "if(discoverBtn) {\n",
    "    discoverBtn.addEventListener('click', () =>{\n",
    "        window.location.href = `search.html?query=random&page=1`;\n",
    "    });\n",
    "}"
   ]
  },
  {
   "cell_type": "markdown",
   "id": "89e97f23",
   "metadata": {},
   "source": [
    "### Trabalhar com URL\n",
    "Como visto antes, é possível mudar a URL da sua janela atual, passando parâmetros e informações\n",
    "\n",
    "Um uso interessante seria em vez de fazer a página de pesquisa modificando o HTML atual, é interessante carregar uma outra página html com endereço URL levando os parâmetros da pesquisa e com outra tag script, que inicia um função de carregar a página de pesquisa, a qual pega o link URL atual, processa com URLSearchParams(); e usa como parâmetro do fetch API um dos parâmetros dentro do link.\n",
    "\n",
    "* ? indica início dos parâmetros da URL\n",
    "* & separa parâmetros\n",
    "* nome=valor\n",
    "* \"#\" no final da URL por algum motivo faz ela voltar pro início em scroll?"
   ]
  },
  {
   "cell_type": "code",
   "execution_count": null,
   "id": "4746611e",
   "metadata": {
    "vscode": {
     "languageId": "javascript"
    }
   },
   "outputs": [],
   "source": [
    "window.location.href = `search.html?query=${encodeURIComponent(query)}`;\n",
    "\n",
    "// =========== encodeURIComponent(string link cru) =============\n",
    "// transforma string que pode dar conflito com URL do site em algo seguro\n",
    "// Ex: não considerar \"arroz & feijão\" como separador de argumentos ou não dar conflito com espaços em brancos\n",
    "\n",
    "\n",
    "// =============== PROPRIEDADES LOCATION ====================\n",
    "// .href => string da URL em si, TEM COMO CRIAR URL\n",
    "// .search => string da URL a partir dos argumentos (a partir do \"?\")\n",
    "\n",
    "// ========== URLSearchParams(string link a partir do \"?\") ==========\n",
    "// recebe parâmetros da string link (a partir do \"?\") e transforma em objetos (dicionários, tipo JSON)! ou seja,\n",
    "// é possível obter cada parâmetro usando object oriented programming (pontos)\n",
    "function pegarQueryfromURL() {\n",
    "        \n",
    "        const params = new URLSearchParams(window.location.search);\n",
    "        return params.get('query');\n",
    "    }"
   ]
  },
  {
   "cell_type": "markdown",
   "id": "af000e67",
   "metadata": {},
   "source": [
    "# Anotações sobre CSS"
   ]
  },
  {
   "cell_type": "markdown",
   "id": "1e70c4bc",
   "metadata": {},
   "source": [
    "### Formas de selecionar elementos de forma inteligente, mais específica ou mais limpa."
   ]
  },
  {
   "cell_type": "markdown",
   "id": "16a38b9e",
   "metadata": {},
   "source": [
    "* Ter dois seletores separados por espaço (.div1 .div2 {})=> \"Selecione qualquer elemento div2 que seja filho de div1\"\n",
    "* Ter dois seletores juntos (p.div1 {}) => \"Selecione qualquer elemento p que também tenha classe div1\"\n",
    "* Filho direto (ul > li {}) => \"Seleciona qualquer elemento li que seja filho de ul"
   ]
  }
 ],
 "metadata": {
  "kernelspec": {
   "display_name": "Python 3",
   "language": "python",
   "name": "python3"
  },
  "language_info": {
   "codemirror_mode": {
    "name": "ipython",
    "version": 3
   },
   "file_extension": ".py",
   "mimetype": "text/x-python",
   "name": "python",
   "nbconvert_exporter": "python",
   "pygments_lexer": "ipython3",
   "version": "3.11.9"
  }
 },
 "nbformat": 4,
 "nbformat_minor": 5
}
